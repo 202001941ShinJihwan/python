{
  "nbformat": 4,
  "nbformat_minor": 0,
  "metadata": {
    "colab": {
      "provenance": [],
      "collapsed_sections": [],
      "authorship_tag": "ABX9TyOcWd4ABBP3Y/ktCJc+uwQP",
      "include_colab_link": true
    },
    "kernelspec": {
      "name": "python3",
      "display_name": "Python 3"
    },
    "language_info": {
      "name": "python"
    }
  },
  "cells": [
    {
      "cell_type": "markdown",
      "metadata": {
        "id": "view-in-github",
        "colab_type": "text"
      },
      "source": [
        "<a href=\"https://colab.research.google.com/github/202001941ShinJihwan/python/blob/main/%EB%85%BC%ED%94%84_%ED%8C%8C%EC%9D%B4%EC%8D%AC_%EA%B3%BC%EC%A0%9C2_%EC%8B%A0%EC%A7%80%ED%99%98.ipynb\" target=\"_parent\"><img src=\"https://colab.research.google.com/assets/colab-badge.svg\" alt=\"Open In Colab\"/></a>"
      ]
    },
    {
      "cell_type": "code",
      "execution_count": null,
      "metadata": {
        "id": "h8M2Vi9bQyIA"
      },
      "outputs": [],
      "source": [
        "#202001941 신지환\n",
        "#1번\n",
        "\n",
        "list1 = []\n",
        "list1.append(int(input(\"자연수 한 개를 입력하세요.\"))) \n",
        "for i in range(100):\n",
        "    n = int(input(\"계속 입력을 원하시면, 자연수 한 개를 입력하시고, 아니라면 0을 입력하세요.\"))\n",
        "    if n == 0:\n",
        "      break\n",
        "    else:\n",
        "      list1.append(n)\n",
        "\n",
        "if i == 99:\n",
        "       print(\"이제 그만하세요. 벌써 100개를 입력했어요.\")\n",
        "\n",
        "print(\"당신이 입력한 숫자를 순서대로 말한다면 아래와 같습니다.\")\n",
        "print(list1)"
      ]
    },
    {
      "cell_type": "code",
      "source": [
        "# 2번\n",
        "\n",
        "n=int(input(\"자연수 한 개를 입력하세요:\"))\n",
        "if n >= 31:\n",
        "    print(\"출력값이 너무 많습니다.\")\n",
        "else:\n",
        "    i=0\n",
        "    j=1\n",
        "    while n >= i:\n",
        "      while i >= j:\n",
        "         if i == j:\n",
        "           print(i)\n",
        "         else:\n",
        "           print(\"*\",end=\"\")\n",
        "         j += 1\n",
        "      i += 1\n",
        "      j=1"
      ],
      "metadata": {
        "id": "HFKw20smQ2xR"
      },
      "execution_count": null,
      "outputs": []
    }
  ]
}